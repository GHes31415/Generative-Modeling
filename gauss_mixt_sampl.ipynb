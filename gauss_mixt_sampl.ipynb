{
  "nbformat": 4,
  "nbformat_minor": 0,
  "metadata": {
    "colab": {
      "provenance": [],
      "authorship_tag": "ABX9TyMiruq1z1LDfoZCYu1Dwde0",
      "include_colab_link": true
    },
    "kernelspec": {
      "name": "python3",
      "display_name": "Python 3"
    },
    "language_info": {
      "name": "python"
    }
  },
  "cells": [
    {
      "cell_type": "markdown",
      "metadata": {
        "id": "view-in-github",
        "colab_type": "text"
      },
      "source": [
        "<a href=\"https://colab.research.google.com/github/GHes31415/Generative-Modeling/blob/main/gauss_mixt_sampl.ipynb\" target=\"_parent\"><img src=\"https://colab.research.google.com/assets/colab-badge.svg\" alt=\"Open In Colab\"/></a>"
      ]
    },
    {
      "cell_type": "code",
      "source": [
        "import torch\n",
        "import matplotlib.pyplot as plt"
      ],
      "metadata": {
        "id": "hYAIh3dyIxRO"
      },
      "execution_count": 84,
      "outputs": []
    },
    {
      "cell_type": "code",
      "execution_count": 85,
      "metadata": {
        "id": "rfc7ClDLIY10"
      },
      "outputs": [],
      "source": [
        "# Code for sampling from Gaussian distributions\n",
        "\n",
        "def sample_gauss_mixture(n_samples: int, n_gaussians: int, mus: torch.tensor, sigs: torch.tensor, weights = torch.tensor):\n",
        "  '''\n",
        "  Input:\n",
        "    n_samples:        number of samples from the guassian mixture\n",
        "    n_gaussians:      number of gaussians in the gaussian mixture\n",
        "    mu:               tensor of means, size n_gaussians x d, with d the dimenison of the gaussian mixture with the means of the gaussins\n",
        "    sig:              tensor of covariance matrices, size n_gaussians x d xd\n",
        "    weights:          tensor of weight for each gaussian\n",
        "\n",
        "  Output:\n",
        "    samples: tensor size n_samples x d\n",
        "  '''\n",
        "\n",
        "  dim = mus[0].shape[0]\n",
        "  samples = torch.zeros((n_samples,dim))\n",
        "  discrete_dist = torch.distributions.Categorical(probs = weights)\n",
        "  dist_indices = discrete_dist.sample((n_samples,))\n",
        "  mus_sampled = mus[dist_indices]\n",
        "  sigs_sampled = sigs[dist_indices]\n",
        "  mvn = torch.distributions.MultivariateNormal(loc = mus_sampled, covariance_matrix= sigs_sampled)\n",
        "  return mvn.sample()"
      ]
    },
    {
      "cell_type": "code",
      "source": [
        "mus = torch.tensor([[1,1],[5,5]], dtype = torch.float32)\n",
        "sigs = torch.tensor([[[1,0],[0,1]],[[1,0],[0,1]]], dtype = torch.float32)"
      ],
      "metadata": {
        "id": "MRKTEjjrX_P1"
      },
      "execution_count": 95,
      "outputs": []
    },
    {
      "cell_type": "code",
      "source": [
        "samples = sample_gauss_mixture(n_samples= 100000, n_gaussians= 2, mus = mus, sigs = sigs, weights= torch.tensor([.5,.5])).numpy()"
      ],
      "metadata": {
        "id": "nGH1kJJHOftQ"
      },
      "execution_count": 98,
      "outputs": []
    },
    {
      "cell_type": "code",
      "source": [
        "plt.scatter(samples[:,0],samples[:,1])"
      ],
      "metadata": {
        "colab": {
          "base_uri": "https://localhost:8080/",
          "height": 447
        },
        "id": "sagHqNkEOgeV",
        "outputId": "b45027c2-1b5f-4e76-a02e-911f995ec5de"
      },
      "execution_count": 99,
      "outputs": [
        {
          "output_type": "execute_result",
          "data": {
            "text/plain": [
              "<matplotlib.collections.PathCollection at 0x7fa16346bdc0>"
            ]
          },
          "metadata": {},
          "execution_count": 99
        },
        {
          "output_type": "display_data",
          "data": {
            "text/plain": [
              "<Figure size 640x480 with 1 Axes>"
            ],
            "image/png": "[encoded data removed]"
          },
          "metadata": {}
        }
      ]
    },
    {
      "cell_type": "code",
      "source": [
        "samples"
      ],
      "metadata": {
        "colab": {
          "base_uri": "https://localhost:8080/"
        },
        "id": "dWpZx5EUO5F8",
        "outputId": "e069e1ea-c8d2-4744-aa4e-dbace6e53cfd"
      },
      "execution_count": 61,
      "outputs": [
        {
          "output_type": "execute_result",
          "data": {
            "text/plain": [
              "array([[-0.48764348,  1.7877045 ],\n",
              "       [ 4.348694  ,  3.8806176 ]], dtype=float32)"
            ]
          },
          "metadata": {},
          "execution_count": 61
        }
      ]
    },
    {
      "cell_type": "code",
      "source": [],
      "metadata": {
        "id": "7clkPHzCV0Tr"
      },
      "execution_count": null,
      "outputs": []
    }
  ]
}